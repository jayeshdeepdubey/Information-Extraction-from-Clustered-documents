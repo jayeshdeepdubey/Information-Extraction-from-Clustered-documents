{
 "cells": [
  {
   "cell_type": "code",
   "execution_count": 1,
   "metadata": {},
   "outputs": [],
   "source": [
    "import numpy as np\n",
    "import pandas as pd\n",
    "from sklearn.feature_extraction.text import TfidfVectorizer\n",
    "import glob\n",
    "import json\n",
    "import csv\n",
    "import matplotlib.pyplot as plt\n",
    "from sklearn.decomposition import PCA\n",
    "from sklearn.metrics import silhouette_score\n",
    "from sklearn.cluster import KMeans\n",
    "from sklearn.metrics.pairwise import cosine_similarity\n",
    "import findspark\n",
    "findspark.init()\n",
    "import pyspark\n",
    "from pyspark.sql import SQLContext,SparkSession\n",
    "from pyspark import SparkContext,SparkConf,StorageLevel\n",
    "from scipy.sparse import csr_matrix\n",
    "from tqdm import tqdm\n",
    "from scipy import sparse\n",
    "import spacy\n",
    "from spacy.matcher import Matcher\n",
    "from nltk.tokenize import sent_tokenize\n",
    "from wordcloud import WordCloud, STOPWORDS, ImageColorGenerator\n",
    "import gc"
   ]
  },
  {
   "cell_type": "code",
   "execution_count": 4,
   "metadata": {},
   "outputs": [
    {
     "name": "stderr",
     "output_type": "stream",
     "text": [
      "/usr/local/anaconda/lib/python3.7/site-packages/IPython/core/interactiveshell.py:3049: DtypeWarning: Columns (1,5,13,14,15,16) have mixed types. Specify dtype option on import or set low_memory=False.\n",
      "  interactivity=interactivity, compiler=compiler, result=result)\n"
     ]
    },
    {
     "data": {
      "text/html": [
       "<div>\n",
       "<style scoped>\n",
       "    .dataframe tbody tr th:only-of-type {\n",
       "        vertical-align: middle;\n",
       "    }\n",
       "\n",
       "    .dataframe tbody tr th {\n",
       "        vertical-align: top;\n",
       "    }\n",
       "\n",
       "    .dataframe thead th {\n",
       "        text-align: right;\n",
       "    }\n",
       "</style>\n",
       "<table border=\"1\" class=\"dataframe\">\n",
       "  <thead>\n",
       "    <tr style=\"text-align: right;\">\n",
       "      <th></th>\n",
       "      <th>cord_uid</th>\n",
       "      <th>sha</th>\n",
       "      <th>source_x</th>\n",
       "      <th>title</th>\n",
       "      <th>doi</th>\n",
       "      <th>pmcid</th>\n",
       "      <th>pubmed_id</th>\n",
       "      <th>license</th>\n",
       "      <th>abstract</th>\n",
       "      <th>publish_time</th>\n",
       "      <th>authors</th>\n",
       "      <th>journal</th>\n",
       "      <th>mag_id</th>\n",
       "      <th>who_covidence_id</th>\n",
       "      <th>arxiv_id</th>\n",
       "      <th>pdf_json_files</th>\n",
       "      <th>pmc_json_files</th>\n",
       "      <th>url</th>\n",
       "      <th>s2_id</th>\n",
       "    </tr>\n",
       "  </thead>\n",
       "  <tbody>\n",
       "    <tr>\n",
       "      <th>0</th>\n",
       "      <td>ug7v899j</td>\n",
       "      <td>d1aafb70c066a2068b02786f8929fd9c900897fb</td>\n",
       "      <td>PMC</td>\n",
       "      <td>Clinical features of culture-proven Mycoplasma...</td>\n",
       "      <td>10.1186/1471-2334-1-6</td>\n",
       "      <td>PMC35282</td>\n",
       "      <td>11472636</td>\n",
       "      <td>no-cc</td>\n",
       "      <td>OBJECTIVE: This retrospective chart review des...</td>\n",
       "      <td>2001-07-04</td>\n",
       "      <td>Madani, Tariq A; Al-Ghamdi, Aisha A</td>\n",
       "      <td>BMC Infect Dis</td>\n",
       "      <td>NaN</td>\n",
       "      <td>NaN</td>\n",
       "      <td>NaN</td>\n",
       "      <td>document_parses/pdf_json/d1aafb70c066a2068b027...</td>\n",
       "      <td>document_parses/pmc_json/PMC35282.xml.json</td>\n",
       "      <td>https://www.ncbi.nlm.nih.gov/pmc/articles/PMC3...</td>\n",
       "      <td>NaN</td>\n",
       "    </tr>\n",
       "    <tr>\n",
       "      <th>1</th>\n",
       "      <td>02tnwd4m</td>\n",
       "      <td>6b0567729c2143a66d737eb0a2f63f2dce2e5a7d</td>\n",
       "      <td>PMC</td>\n",
       "      <td>Nitric oxide: a pro-inflammatory mediator in l...</td>\n",
       "      <td>10.1186/rr14</td>\n",
       "      <td>PMC59543</td>\n",
       "      <td>11667967</td>\n",
       "      <td>no-cc</td>\n",
       "      <td>Inflammatory diseases of the respiratory tract...</td>\n",
       "      <td>2000-08-15</td>\n",
       "      <td>Vliet, Albert van der; Eiserich, Jason P; Cros...</td>\n",
       "      <td>Respir Res</td>\n",
       "      <td>NaN</td>\n",
       "      <td>NaN</td>\n",
       "      <td>NaN</td>\n",
       "      <td>document_parses/pdf_json/6b0567729c2143a66d737...</td>\n",
       "      <td>document_parses/pmc_json/PMC59543.xml.json</td>\n",
       "      <td>https://www.ncbi.nlm.nih.gov/pmc/articles/PMC5...</td>\n",
       "      <td>NaN</td>\n",
       "    </tr>\n",
       "    <tr>\n",
       "      <th>2</th>\n",
       "      <td>ejv2xln0</td>\n",
       "      <td>06ced00a5fc04215949aa72528f2eeaae1d58927</td>\n",
       "      <td>PMC</td>\n",
       "      <td>Surfactant protein-D and pulmonary host defense</td>\n",
       "      <td>10.1186/rr19</td>\n",
       "      <td>PMC59549</td>\n",
       "      <td>11667972</td>\n",
       "      <td>no-cc</td>\n",
       "      <td>Surfactant protein-D (SP-D) participates in th...</td>\n",
       "      <td>2000-08-25</td>\n",
       "      <td>Crouch, Erika C</td>\n",
       "      <td>Respir Res</td>\n",
       "      <td>NaN</td>\n",
       "      <td>NaN</td>\n",
       "      <td>NaN</td>\n",
       "      <td>document_parses/pdf_json/06ced00a5fc04215949aa...</td>\n",
       "      <td>document_parses/pmc_json/PMC59549.xml.json</td>\n",
       "      <td>https://www.ncbi.nlm.nih.gov/pmc/articles/PMC5...</td>\n",
       "      <td>NaN</td>\n",
       "    </tr>\n",
       "    <tr>\n",
       "      <th>3</th>\n",
       "      <td>2b73a28n</td>\n",
       "      <td>348055649b6b8cf2b9a376498df9bf41f7123605</td>\n",
       "      <td>PMC</td>\n",
       "      <td>Role of endothelin-1 in lung disease</td>\n",
       "      <td>10.1186/rr44</td>\n",
       "      <td>PMC59574</td>\n",
       "      <td>11686871</td>\n",
       "      <td>no-cc</td>\n",
       "      <td>Endothelin-1 (ET-1) is a 21 amino acid peptide...</td>\n",
       "      <td>2001-02-22</td>\n",
       "      <td>Fagan, Karen A; McMurtry, Ivan F; Rodman, David M</td>\n",
       "      <td>Respir Res</td>\n",
       "      <td>NaN</td>\n",
       "      <td>NaN</td>\n",
       "      <td>NaN</td>\n",
       "      <td>document_parses/pdf_json/348055649b6b8cf2b9a37...</td>\n",
       "      <td>document_parses/pmc_json/PMC59574.xml.json</td>\n",
       "      <td>https://www.ncbi.nlm.nih.gov/pmc/articles/PMC5...</td>\n",
       "      <td>NaN</td>\n",
       "    </tr>\n",
       "    <tr>\n",
       "      <th>4</th>\n",
       "      <td>9785vg6d</td>\n",
       "      <td>5f48792a5fa08bed9f56016f4981ae2ca6031b32</td>\n",
       "      <td>PMC</td>\n",
       "      <td>Gene expression in epithelial cells in respons...</td>\n",
       "      <td>10.1186/rr61</td>\n",
       "      <td>PMC59580</td>\n",
       "      <td>11686888</td>\n",
       "      <td>no-cc</td>\n",
       "      <td>Respiratory syncytial virus (RSV) and pneumoni...</td>\n",
       "      <td>2001-05-11</td>\n",
       "      <td>Domachowske, Joseph B; Bonville, Cynthia A; Ro...</td>\n",
       "      <td>Respir Res</td>\n",
       "      <td>NaN</td>\n",
       "      <td>NaN</td>\n",
       "      <td>NaN</td>\n",
       "      <td>document_parses/pdf_json/5f48792a5fa08bed9f560...</td>\n",
       "      <td>document_parses/pmc_json/PMC59580.xml.json</td>\n",
       "      <td>https://www.ncbi.nlm.nih.gov/pmc/articles/PMC5...</td>\n",
       "      <td>NaN</td>\n",
       "    </tr>\n",
       "  </tbody>\n",
       "</table>\n",
       "</div>"
      ],
      "text/plain": [
       "   cord_uid                                       sha source_x  \\\n",
       "0  ug7v899j  d1aafb70c066a2068b02786f8929fd9c900897fb      PMC   \n",
       "1  02tnwd4m  6b0567729c2143a66d737eb0a2f63f2dce2e5a7d      PMC   \n",
       "2  ejv2xln0  06ced00a5fc04215949aa72528f2eeaae1d58927      PMC   \n",
       "3  2b73a28n  348055649b6b8cf2b9a376498df9bf41f7123605      PMC   \n",
       "4  9785vg6d  5f48792a5fa08bed9f56016f4981ae2ca6031b32      PMC   \n",
       "\n",
       "                                               title                    doi  \\\n",
       "0  Clinical features of culture-proven Mycoplasma...  10.1186/1471-2334-1-6   \n",
       "1  Nitric oxide: a pro-inflammatory mediator in l...           10.1186/rr14   \n",
       "2    Surfactant protein-D and pulmonary host defense           10.1186/rr19   \n",
       "3               Role of endothelin-1 in lung disease           10.1186/rr44   \n",
       "4  Gene expression in epithelial cells in respons...           10.1186/rr61   \n",
       "\n",
       "      pmcid pubmed_id license  \\\n",
       "0  PMC35282  11472636   no-cc   \n",
       "1  PMC59543  11667967   no-cc   \n",
       "2  PMC59549  11667972   no-cc   \n",
       "3  PMC59574  11686871   no-cc   \n",
       "4  PMC59580  11686888   no-cc   \n",
       "\n",
       "                                            abstract publish_time  \\\n",
       "0  OBJECTIVE: This retrospective chart review des...   2001-07-04   \n",
       "1  Inflammatory diseases of the respiratory tract...   2000-08-15   \n",
       "2  Surfactant protein-D (SP-D) participates in th...   2000-08-25   \n",
       "3  Endothelin-1 (ET-1) is a 21 amino acid peptide...   2001-02-22   \n",
       "4  Respiratory syncytial virus (RSV) and pneumoni...   2001-05-11   \n",
       "\n",
       "                                             authors         journal  mag_id  \\\n",
       "0                Madani, Tariq A; Al-Ghamdi, Aisha A  BMC Infect Dis     NaN   \n",
       "1  Vliet, Albert van der; Eiserich, Jason P; Cros...      Respir Res     NaN   \n",
       "2                                    Crouch, Erika C      Respir Res     NaN   \n",
       "3  Fagan, Karen A; McMurtry, Ivan F; Rodman, David M      Respir Res     NaN   \n",
       "4  Domachowske, Joseph B; Bonville, Cynthia A; Ro...      Respir Res     NaN   \n",
       "\n",
       "  who_covidence_id arxiv_id  \\\n",
       "0              NaN      NaN   \n",
       "1              NaN      NaN   \n",
       "2              NaN      NaN   \n",
       "3              NaN      NaN   \n",
       "4              NaN      NaN   \n",
       "\n",
       "                                      pdf_json_files  \\\n",
       "0  document_parses/pdf_json/d1aafb70c066a2068b027...   \n",
       "1  document_parses/pdf_json/6b0567729c2143a66d737...   \n",
       "2  document_parses/pdf_json/06ced00a5fc04215949aa...   \n",
       "3  document_parses/pdf_json/348055649b6b8cf2b9a37...   \n",
       "4  document_parses/pdf_json/5f48792a5fa08bed9f560...   \n",
       "\n",
       "                               pmc_json_files  \\\n",
       "0  document_parses/pmc_json/PMC35282.xml.json   \n",
       "1  document_parses/pmc_json/PMC59543.xml.json   \n",
       "2  document_parses/pmc_json/PMC59549.xml.json   \n",
       "3  document_parses/pmc_json/PMC59574.xml.json   \n",
       "4  document_parses/pmc_json/PMC59580.xml.json   \n",
       "\n",
       "                                                 url  s2_id  \n",
       "0  https://www.ncbi.nlm.nih.gov/pmc/articles/PMC3...    NaN  \n",
       "1  https://www.ncbi.nlm.nih.gov/pmc/articles/PMC5...    NaN  \n",
       "2  https://www.ncbi.nlm.nih.gov/pmc/articles/PMC5...    NaN  \n",
       "3  https://www.ncbi.nlm.nih.gov/pmc/articles/PMC5...    NaN  \n",
       "4  https://www.ncbi.nlm.nih.gov/pmc/articles/PMC5...    NaN  "
      ]
     },
     "execution_count": 4,
     "metadata": {},
     "output_type": "execute_result"
    }
   ],
   "source": [
    "# Ref: https://www.kaggle.com/maksimeren/covid-19-literature-clustering\n",
    "file_path = \"/media/jayesh/New Volume/Covid_19_dataset/C19data/metadata.csv\"\n",
    "C19_metadata = pd.read_csv(file_path,dtype={\n",
    "    'pubmed_id': str,\n",
    "    'Microsoft Academic Paper ID': str, \n",
    "    'doi': str })\n",
    "C19_metadata.head()"
   ]
  },
  {
   "cell_type": "code",
   "execution_count": 5,
   "metadata": {},
   "outputs": [
    {
     "name": "stdout",
     "output_type": "stream",
     "text": [
      "['/media/jayesh/New Volume/Covid_19_dataset/C19data/document_parses/pdf_json/0001418189999fea7f7cbe3e82703d71c85a6fe5.json', '/media/jayesh/New Volume/Covid_19_dataset/C19data/document_parses/pdf_json/0003793cf9e709bc2b9d0c8111186f78fb73fc04.json', '/media/jayesh/New Volume/Covid_19_dataset/C19data/document_parses/pdf_json/000379d7a7f37a2ccb978862b9f2016bd03259ea.json', '/media/jayesh/New Volume/Covid_19_dataset/C19data/document_parses/pdf_json/00039b94e6cb7609ecbddee1755314bcfeb77faa.json', '/media/jayesh/New Volume/Covid_19_dataset/C19data/document_parses/pdf_json/0003ddc51c4291d742855e9ac56076a3bea33ad7.json']\n",
      "139694\n"
     ]
    }
   ],
   "source": [
    "# Getting the path of json files into a list\n",
    "path = \"/media/jayesh/New Volume/Covid_19_dataset/C19data/\"\n",
    "json_paths = glob.glob(f'{path}/**/*.json',recursive=True)\n",
    "print(json_paths[:5])\n",
    "print(len(json_paths))"
   ]
  },
  {
   "cell_type": "code",
   "execution_count": 6,
   "metadata": {},
   "outputs": [
    {
     "name": "stdout",
     "output_type": "stream",
     "text": [
      "Completed processing for 3000 files\n",
      "Completed processing for 6000 files\n",
      "Completed processing for 9000 files\n",
      "Completed processing for 12000 files\n",
      "Completed processing for 15000 files\n",
      "Completed processing for 18000 files\n",
      "Completed processing for 21000 files\n",
      "Completed processing for 24000 files\n",
      "Completed processing for 27000 files\n",
      "Completed processing for 30000 files\n",
      "Completed processing for 33000 files\n",
      "Completed processing for 36000 files\n",
      "Completed processing for 39000 files\n",
      "Completed processing for 42000 files\n",
      "Completed processing for 45000 files\n",
      "Completed processing for 48000 files\n",
      "Completed processing for 51000 files\n",
      "Completed processing for 54000 files\n",
      "Completed processing for 57000 files\n",
      "Completed processing for 60000 files\n",
      "Completed processing for 63000 files\n",
      "Completed processing for 66000 files\n",
      "Completed processing for 69000 files\n",
      "Completed processing for 72000 files\n",
      "Completed processing for 75000 files\n",
      "Completed processing for 78000 files\n",
      "Completed processing for 81000 files\n",
      "Completed processing for 84000 files\n",
      "Completed processing for 87000 files\n",
      "Completed processing for 90000 files\n",
      "Completed processing for 93000 files\n",
      "Completed processing for 96000 files\n",
      "Completed processing for 99000 files\n",
      "Completed processing for 102000 files\n",
      "Completed processing for 105000 files\n",
      "Completed processing for 108000 files\n",
      "Completed processing for 111000 files\n",
      "Completed processing for 114000 files\n",
      "Completed processing for 117000 files\n",
      "Completed processing for 120000 files\n",
      "Completed processing for 123000 files\n",
      "Completed processing for 126000 files\n",
      "Completed processing for 129000 files\n",
      "Completed processing for 132000 files\n",
      "Completed processing for 135000 files\n",
      "Completed processing for 138000 files\n",
      "Processing Completed for all files\n"
     ]
    }
   ],
   "source": [
    "# Reading the data from json files and putting it into a dataframe\n",
    "covid_data = {'paper_id':[],'title':[],'abstract':[],'text':[]}\n",
    "\n",
    "for id,each in enumerate(json_paths):\n",
    "    if (id+1)%3000 == 0:\n",
    "        print(\"Completed processing for \"+str(id+1)+\" files\")\n",
    "    elif (id+1) == 139694:\n",
    "        print(\"Processing Completed for all files\")\n",
    "        \n",
    "    with open(each) as f:\n",
    "        bodytext = []\n",
    "        abstract = []\n",
    "        try:\n",
    "            content = json.load(f)\n",
    "            for each_input in content[\"abstract\"]:\n",
    "                abstract.append(each_input[\"text\"])    \n",
    "            for each_input in content[\"body_text\"]:\n",
    "                bodytext.append(each_input[\"text\"])\n",
    "            bodytext = \" \".join(bodytext)\n",
    "            abstract = \" \".join(abstract)\n",
    "            covid_data['text'].append(bodytext)\n",
    "            covid_data['abstract'].append(abstract)\n",
    "            covid_data[\"paper_id\"].append(content[\"paper_id\"])\n",
    "            covid_data[\"title\"].append(content[\"metadata\"][\"title\"])\n",
    "        except:\n",
    "            continue\n",
    "#print(data)        "
   ]
  },
  {
   "cell_type": "code",
   "execution_count": 7,
   "metadata": {},
   "outputs": [
    {
     "name": "stdout",
     "output_type": "stream",
     "text": [
      "80744\n"
     ]
    },
    {
     "data": {
      "text/html": [
       "<div>\n",
       "<style scoped>\n",
       "    .dataframe tbody tr th:only-of-type {\n",
       "        vertical-align: middle;\n",
       "    }\n",
       "\n",
       "    .dataframe tbody tr th {\n",
       "        vertical-align: top;\n",
       "    }\n",
       "\n",
       "    .dataframe thead th {\n",
       "        text-align: right;\n",
       "    }\n",
       "</style>\n",
       "<table border=\"1\" class=\"dataframe\">\n",
       "  <thead>\n",
       "    <tr style=\"text-align: right;\">\n",
       "      <th></th>\n",
       "      <th>paper_id</th>\n",
       "      <th>title</th>\n",
       "      <th>abstract</th>\n",
       "      <th>text</th>\n",
       "    </tr>\n",
       "  </thead>\n",
       "  <tbody>\n",
       "    <tr>\n",
       "      <th>0</th>\n",
       "      <td>0001418189999fea7f7cbe3e82703d71c85a6fe5</td>\n",
       "      <td>Absence of surface expression of feline infect...</td>\n",
       "      <td>Feline infectious peritonitis virus (FIPV) pos...</td>\n",
       "      <td>Feline infectious peritonitis (FIP) is a fatal...</td>\n",
       "    </tr>\n",
       "    <tr>\n",
       "      <th>1</th>\n",
       "      <td>0003793cf9e709bc2b9d0c8111186f78fb73fc04</td>\n",
       "      <td>Title: Rethinking high-risk groups in COVID-19</td>\n",
       "      <td></td>\n",
       "      <td>How do we protect our 'high-risk' patient popu...</td>\n",
       "    </tr>\n",
       "    <tr>\n",
       "      <th>2</th>\n",
       "      <td>000379d7a7f37a2ccb978862b9f2016bd03259ea</td>\n",
       "      <td>ScienceDirect ScienceDirect Effect of Nanomate...</td>\n",
       "      <td>approach. The NM shape in the conformal circui...</td>\n",
       "      <td>Integration of functional electronic devices o...</td>\n",
       "    </tr>\n",
       "    <tr>\n",
       "      <th>3</th>\n",
       "      <td>00039b94e6cb7609ecbddee1755314bcfeb77faa</td>\n",
       "      <td>Plasma inflammatory cytokines and chemokines i...</td>\n",
       "      <td>Severe acute respiratory syndrome (SARS) is a ...</td>\n",
       "      <td>Severe acute respiratory syndrome (SARS) is a ...</td>\n",
       "    </tr>\n",
       "    <tr>\n",
       "      <th>4</th>\n",
       "      <td>0003ddc51c4291d742855e9ac56076a3bea33ad7</td>\n",
       "      <td>Journal Pre-proofs The Fire This Time: The Str...</td>\n",
       "      <td></td>\n",
       "      <td>It is said that crisis reveals character. The ...</td>\n",
       "    </tr>\n",
       "  </tbody>\n",
       "</table>\n",
       "</div>"
      ],
      "text/plain": [
       "                                   paper_id  \\\n",
       "0  0001418189999fea7f7cbe3e82703d71c85a6fe5   \n",
       "1  0003793cf9e709bc2b9d0c8111186f78fb73fc04   \n",
       "2  000379d7a7f37a2ccb978862b9f2016bd03259ea   \n",
       "3  00039b94e6cb7609ecbddee1755314bcfeb77faa   \n",
       "4  0003ddc51c4291d742855e9ac56076a3bea33ad7   \n",
       "\n",
       "                                               title  \\\n",
       "0  Absence of surface expression of feline infect...   \n",
       "1     Title: Rethinking high-risk groups in COVID-19   \n",
       "2  ScienceDirect ScienceDirect Effect of Nanomate...   \n",
       "3  Plasma inflammatory cytokines and chemokines i...   \n",
       "4  Journal Pre-proofs The Fire This Time: The Str...   \n",
       "\n",
       "                                            abstract  \\\n",
       "0  Feline infectious peritonitis virus (FIPV) pos...   \n",
       "1                                                      \n",
       "2  approach. The NM shape in the conformal circui...   \n",
       "3  Severe acute respiratory syndrome (SARS) is a ...   \n",
       "4                                                      \n",
       "\n",
       "                                                text  \n",
       "0  Feline infectious peritonitis (FIP) is a fatal...  \n",
       "1  How do we protect our 'high-risk' patient popu...  \n",
       "2  Integration of functional electronic devices o...  \n",
       "3  Severe acute respiratory syndrome (SARS) is a ...  \n",
       "4  It is said that crisis reveals character. The ...  "
      ]
     },
     "execution_count": 7,
     "metadata": {},
     "output_type": "execute_result"
    }
   ],
   "source": [
    "print(len(covid_data['abstract']))\n",
    "covid19_df = pd.DataFrame(covid_data)\n",
    "covid19_df.head()"
   ]
  },
  {
   "cell_type": "code",
   "execution_count": 8,
   "metadata": {},
   "outputs": [
    {
     "data": {
      "text/plain": [
       "paper_id        0\n",
       "title        8527\n",
       "abstract    25461\n",
       "text            0\n",
       "dtype: int64"
      ]
     },
     "execution_count": 8,
     "metadata": {},
     "output_type": "execute_result"
    }
   ],
   "source": [
    "# Treating empty cells\n",
    "covid19_df['abstract'].replace('',np.nan,inplace=True)\n",
    "covid19_df['title'].replace('',np.nan,inplace=True)\n",
    "covid19_df['text'].replace('',np.nan,inplace=True)\n",
    "covid19_df['paper_id'].replace('',np.nan,inplace=True)\n",
    "covid19_df.head()\n",
    "covid19_df.isna().sum()"
   ]
  },
  {
   "cell_type": "code",
   "execution_count": 9,
   "metadata": {},
   "outputs": [
    {
     "name": "stdout",
     "output_type": "stream",
     "text": [
      "<class 'pandas.core.frame.DataFrame'>\n",
      "Int64Index: 53091 entries, 0 to 80743\n",
      "Data columns (total 4 columns):\n",
      "paper_id    53091 non-null object\n",
      "title       53091 non-null object\n",
      "abstract    53091 non-null object\n",
      "text        53091 non-null object\n",
      "dtypes: object(4)\n",
      "memory usage: 2.0+ MB\n"
     ]
    }
   ],
   "source": [
    "# Dropping Nan values\n",
    "covid19_df.dropna(inplace=True)\n",
    "covid19_df.isna().sum()\n",
    "covid19_df.info()"
   ]
  },
  {
   "cell_type": "code",
   "execution_count": 10,
   "metadata": {},
   "outputs": [],
   "source": [
    "# Identifying the language of the articles/data (only data in english is considered for analysis)\n",
    "languages = []\n",
    "remove = []\n",
    "from langdetect import detect, DetectorFactory\n",
    "for index in range(len(covid19_df)):\n",
    "    try:\n",
    "        DetectorFactory.seed=0\n",
    "        languages.append(detect(str(covid19_df['text'].iloc[index][:500])))\n",
    "    except:\n",
    "        languages.append(\"unrec\")\n",
    "        remove.append(index)\n",
    "        pass"
   ]
  },
  {
   "cell_type": "code",
   "execution_count": 11,
   "metadata": {},
   "outputs": [],
   "source": [
    "covid19_df['language'] = languages"
   ]
  },
  {
   "cell_type": "code",
   "execution_count": 12,
   "metadata": {},
   "outputs": [
    {
     "data": {
      "text/html": [
       "<div>\n",
       "<style scoped>\n",
       "    .dataframe tbody tr th:only-of-type {\n",
       "        vertical-align: middle;\n",
       "    }\n",
       "\n",
       "    .dataframe tbody tr th {\n",
       "        vertical-align: top;\n",
       "    }\n",
       "\n",
       "    .dataframe thead th {\n",
       "        text-align: right;\n",
       "    }\n",
       "</style>\n",
       "<table border=\"1\" class=\"dataframe\">\n",
       "  <thead>\n",
       "    <tr style=\"text-align: right;\">\n",
       "      <th></th>\n",
       "      <th>paper_id</th>\n",
       "      <th>title</th>\n",
       "      <th>abstract</th>\n",
       "      <th>text</th>\n",
       "      <th>language</th>\n",
       "    </tr>\n",
       "  </thead>\n",
       "  <tbody>\n",
       "    <tr>\n",
       "      <th>0</th>\n",
       "      <td>0001418189999fea7f7cbe3e82703d71c85a6fe5</td>\n",
       "      <td>Absence of surface expression of feline infect...</td>\n",
       "      <td>Feline infectious peritonitis virus (FIPV) pos...</td>\n",
       "      <td>Feline infectious peritonitis (FIP) is a fatal...</td>\n",
       "      <td>en</td>\n",
       "    </tr>\n",
       "    <tr>\n",
       "      <th>2</th>\n",
       "      <td>000379d7a7f37a2ccb978862b9f2016bd03259ea</td>\n",
       "      <td>ScienceDirect ScienceDirect Effect of Nanomate...</td>\n",
       "      <td>approach. The NM shape in the conformal circui...</td>\n",
       "      <td>Integration of functional electronic devices o...</td>\n",
       "      <td>en</td>\n",
       "    </tr>\n",
       "    <tr>\n",
       "      <th>3</th>\n",
       "      <td>00039b94e6cb7609ecbddee1755314bcfeb77faa</td>\n",
       "      <td>Plasma inflammatory cytokines and chemokines i...</td>\n",
       "      <td>Severe acute respiratory syndrome (SARS) is a ...</td>\n",
       "      <td>Severe acute respiratory syndrome (SARS) is a ...</td>\n",
       "      <td>en</td>\n",
       "    </tr>\n",
       "    <tr>\n",
       "      <th>8</th>\n",
       "      <td>00073cb65dd2596249230fab8b15a71c4a135895</td>\n",
       "      <td>Risk Parameters of Fulminant Acute Respiratory...</td>\n",
       "      <td>A clinical picture of patients with acute resp...</td>\n",
       "      <td>Since then, many clinical case reports have be...</td>\n",
       "      <td>en</td>\n",
       "    </tr>\n",
       "    <tr>\n",
       "      <th>10</th>\n",
       "      <td>0008c57de475138d903f2cca7003cf1e1ad93cf4</td>\n",
       "      <td>The effect of gramicidin inclusions on the loc...</td>\n",
       "      <td>We study the local effect of the antimicrobial...</td>\n",
       "      <td>The effect on the cell membrane of inclusions ...</td>\n",
       "      <td>en</td>\n",
       "    </tr>\n",
       "  </tbody>\n",
       "</table>\n",
       "</div>"
      ],
      "text/plain": [
       "                                    paper_id  \\\n",
       "0   0001418189999fea7f7cbe3e82703d71c85a6fe5   \n",
       "2   000379d7a7f37a2ccb978862b9f2016bd03259ea   \n",
       "3   00039b94e6cb7609ecbddee1755314bcfeb77faa   \n",
       "8   00073cb65dd2596249230fab8b15a71c4a135895   \n",
       "10  0008c57de475138d903f2cca7003cf1e1ad93cf4   \n",
       "\n",
       "                                                title  \\\n",
       "0   Absence of surface expression of feline infect...   \n",
       "2   ScienceDirect ScienceDirect Effect of Nanomate...   \n",
       "3   Plasma inflammatory cytokines and chemokines i...   \n",
       "8   Risk Parameters of Fulminant Acute Respiratory...   \n",
       "10  The effect of gramicidin inclusions on the loc...   \n",
       "\n",
       "                                             abstract  \\\n",
       "0   Feline infectious peritonitis virus (FIPV) pos...   \n",
       "2   approach. The NM shape in the conformal circui...   \n",
       "3   Severe acute respiratory syndrome (SARS) is a ...   \n",
       "8   A clinical picture of patients with acute resp...   \n",
       "10  We study the local effect of the antimicrobial...   \n",
       "\n",
       "                                                 text language  \n",
       "0   Feline infectious peritonitis (FIP) is a fatal...       en  \n",
       "2   Integration of functional electronic devices o...       en  \n",
       "3   Severe acute respiratory syndrome (SARS) is a ...       en  \n",
       "8   Since then, many clinical case reports have be...       en  \n",
       "10  The effect on the cell membrane of inclusions ...       en  "
      ]
     },
     "execution_count": 12,
     "metadata": {},
     "output_type": "execute_result"
    }
   ],
   "source": [
    "covid19_df.head()"
   ]
  },
  {
   "cell_type": "code",
   "execution_count": 13,
   "metadata": {},
   "outputs": [
    {
     "data": {
      "text/plain": [
       "en       52192\n",
       "de         300\n",
       "fr         231\n",
       "es         200\n",
       "nl         101\n",
       "it          35\n",
       "pt          11\n",
       "unrec        5\n",
       "pl           3\n",
       "ca           3\n",
       "cy           3\n",
       "sv           1\n",
       "af           1\n",
       "tl           1\n",
       "id           1\n",
       "ko           1\n",
       "ru           1\n",
       "zh-cn        1\n",
       "Name: language, dtype: int64"
      ]
     },
     "execution_count": 13,
     "metadata": {},
     "output_type": "execute_result"
    }
   ],
   "source": [
    "covid19_df['language'].value_counts()"
   ]
  },
  {
   "cell_type": "code",
   "execution_count": 14,
   "metadata": {},
   "outputs": [
    {
     "name": "stdout",
     "output_type": "stream",
     "text": [
      "<class 'pandas.core.frame.DataFrame'>\n",
      "Int64Index: 52192 entries, 0 to 80743\n",
      "Data columns (total 5 columns):\n",
      "paper_id    52192 non-null object\n",
      "title       52192 non-null object\n",
      "abstract    52192 non-null object\n",
      "text        52192 non-null object\n",
      "language    52192 non-null object\n",
      "dtypes: object(5)\n",
      "memory usage: 2.4+ MB\n"
     ]
    }
   ],
   "source": [
    "# Considering only those articles that are in english\n",
    "covid19_df = covid19_df[covid19_df['language'] == 'en']\n",
    "covid19_df.info()"
   ]
  },
  {
   "cell_type": "code",
   "execution_count": 16,
   "metadata": {},
   "outputs": [],
   "source": [
    "import re\n",
    "\n",
    "def decontracted(phrase):\n",
    "    # specific\n",
    "    phrase = re.sub(r\"won't\", \"will not\", phrase)\n",
    "    phrase = re.sub(r\"can\\'t\", \"can not\", phrase)\n",
    "\n",
    "    # general\n",
    "    phrase = re.sub(r\"n\\'t\", \" not\", phrase)\n",
    "    phrase = re.sub(r\"\\'re\", \" are\", phrase)\n",
    "    phrase = re.sub(r\"\\'s\", \" is\", phrase)\n",
    "    phrase = re.sub(r\"\\'d\", \" would\", phrase)\n",
    "    phrase = re.sub(r\"\\'ll\", \" will\", phrase)\n",
    "    phrase = re.sub(r\"\\'t\", \" not\", phrase)\n",
    "    phrase = re.sub(r\"\\'ve\", \" have\", phrase)\n",
    "    phrase = re.sub(r\"\\'m\", \" am\", phrase)\n",
    "    return phrase"
   ]
  },
  {
   "cell_type": "code",
   "execution_count": 17,
   "metadata": {},
   "outputs": [],
   "source": [
    "stopwords= ['i', 'me', 'my', 'myself', 'we', 'our', 'ours', 'ourselves', 'you', \"you're\", \"you've\",\\\n",
    "            \"you'll\", \"you'd\", 'your', 'yours', 'yourself', 'yourselves', 'he', 'him', 'his', 'himself', \\\n",
    "            'she', \"she's\", 'her', 'hers', 'herself', 'it', \"it's\", 'its', 'itself', 'they', 'them', 'their',\\\n",
    "            'theirs', 'themselves', 'what', 'which', 'who', 'whom', 'this', 'that', \"that'll\", 'these', 'those', \\\n",
    "            'am', 'is', 'are', 'was', 'were', 'be', 'been', 'being', 'have', 'has', 'had', 'having', 'do', 'does', \\\n",
    "            'did', 'doing', 'a', 'an', 'the', 'and', 'but', 'if', 'or', 'because', 'as', 'until', 'while', 'of', \\\n",
    "            'at', 'by', 'for', 'with', 'about', 'against', 'between', 'into', 'through', 'during', 'before', 'after',\\\n",
    "            'above', 'below', 'to', 'from', 'up', 'down', 'in', 'out', 'on', 'off', 'over', 'under', 'again', 'further',\\\n",
    "            'then', 'once', 'here', 'there', 'when', 'where', 'why', 'how', 'all', 'any', 'both', 'each', 'few', 'more',\\\n",
    "            'most', 'other', 'some', 'such', 'only', 'own', 'same', 'so', 'than', 'too', 'very', \\\n",
    "            's', 't', 'can', 'will', 'just', 'don', \"don't\", 'should', \"should've\", 'now', 'd', 'll', 'm', 'o', 're', \\\n",
    "            've', 'y', 'ain', 'aren', \"aren't\", 'couldn', \"couldn't\", 'didn', \"didn't\", 'doesn', \"doesn't\", 'hadn',\\\n",
    "            \"hadn't\", 'hasn', \"hasn't\", 'haven', \"haven't\", 'isn', \"isn't\", 'ma', 'mightn', \"mightn't\", 'mustn',\\\n",
    "            \"mustn't\", 'needn', \"needn't\", 'shan', \"shan't\", 'shouldn', \"shouldn't\", 'wasn', \"wasn't\", 'weren', \"weren't\", \\\n",
    "            'won', \"won't\", 'wouldn', \"wouldn't\", 'doi', 'preprint', 'copyright', 'peer', 'reviewed', 'org', 'https', 'et', \\\n",
    "            'al', 'author', 'figure', 'rights', 'reserved', 'permission', 'used', 'using', 'biorxiv', 'medrxiv', 'license', 'fig', \\\n",
    "            'fig.', 'al.', 'Elsevier', 'PMC', 'CZI', 'www', 'however', 'therefore', 'since', 'respectively', 'although', 'include', \\\n",
    "            'including', 'example']"
   ]
  },
  {
   "cell_type": "code",
   "execution_count": 18,
   "metadata": {},
   "outputs": [],
   "source": [
    "# The function performs preprocessing on the data\n",
    "def preprocess_text(text_data):\n",
    "    preprocessed_text = []\n",
    "    # tqdm is for printing the status bar\n",
    "    for sentance in text_data:\n",
    "        sent = decontracted(sentance)\n",
    "        sent = sent.replace('\\\\r', ' ')\n",
    "        sent = sent.replace('\\\\n', ' ')\n",
    "        sent = sent.replace('\\\\\"', ' ')\n",
    "        sent = re.sub(\"[\\(\\[].*?[\\)\\]]\", \"\", sent)\n",
    "        sent = re.sub('[^A-Za-z0-9]+', ' ', sent)\n",
    "    # https://gist.github.com/sebleier/554280\n",
    "        sent = ' '.join(e for e in sent.split() if e.lower() not in stopwords)\n",
    "        preprocessed_text.append(sent.lower().strip())\n",
    "    return preprocessed_text"
   ]
  },
  {
   "cell_type": "code",
   "execution_count": 19,
   "metadata": {},
   "outputs": [],
   "source": [
    "# Performing preprocessing on the text column(i.e. actual data)\n",
    "preprocessed_text = preprocess_text(covid19_df['text'].values)\n",
    "covid19_df['preprocessed_text'] = preprocessed_text"
   ]
  },
  {
   "cell_type": "code",
   "execution_count": 20,
   "metadata": {},
   "outputs": [
    {
     "name": "stdout",
     "output_type": "stream",
     "text": [
      "<class 'pandas.core.frame.DataFrame'>\n",
      "Int64Index: 52192 entries, 0 to 80743\n",
      "Data columns (total 6 columns):\n",
      "paper_id             52192 non-null object\n",
      "title                52192 non-null object\n",
      "abstract             52192 non-null object\n",
      "text                 52192 non-null object\n",
      "language             52192 non-null object\n",
      "preprocessed_text    52192 non-null object\n",
      "dtypes: object(6)\n",
      "memory usage: 2.8+ MB\n"
     ]
    }
   ],
   "source": [
    "covid19_df.info()"
   ]
  },
  {
   "cell_type": "code",
   "execution_count": 44,
   "metadata": {},
   "outputs": [],
   "source": [
    "# Saving dataframe to csv to prevent repeated processing\n",
    "covid19_df.to_csv('preprocessed_covi19_data.csv')"
   ]
  },
  {
   "cell_type": "code",
   "execution_count": 2,
   "metadata": {},
   "outputs": [],
   "source": [
    "# Reading from csv\n",
    "covid19_df = pd.read_csv('preprocessed_covi19_data.csv')"
   ]
  },
  {
   "cell_type": "code",
   "execution_count": 21,
   "metadata": {},
   "outputs": [
    {
     "name": "stdout",
     "output_type": "stream",
     "text": [
      "<class 'pandas.core.frame.DataFrame'>\n",
      "Int64Index: 10000 entries, 0 to 15571\n",
      "Data columns (total 6 columns):\n",
      "paper_id             10000 non-null object\n",
      "title                10000 non-null object\n",
      "abstract             10000 non-null object\n",
      "text                 10000 non-null object\n",
      "language             10000 non-null object\n",
      "preprocessed_text    10000 non-null object\n",
      "dtypes: object(6)\n",
      "memory usage: 546.9+ KB\n",
      "10000\n"
     ]
    }
   ],
   "source": [
    "#Taking only a subset of data(i.e.10000 research articles) because of memory limitations\n",
    "covid19_df_subset = covid19_df[:10000] \n",
    "covid19_df_subset.info()\n",
    "c_data = covid19_df_subset['preprocessed_text'].values\n",
    "print(len(c_data))"
   ]
  },
  {
   "cell_type": "code",
   "execution_count": 22,
   "metadata": {},
   "outputs": [],
   "source": [
    "c_title = covid19_df_subset['title'].values"
   ]
  },
  {
   "cell_type": "code",
   "execution_count": 5,
   "metadata": {},
   "outputs": [
    {
     "name": "stdout",
     "output_type": "stream",
     "text": [
      "Data shape: (10000, 10000)\n"
     ]
    }
   ],
   "source": [
    "# Using TFIDF vectorizer for coverting text to vectors(considering only 10000 features because of memory limitations)\n",
    "vectorizer_tfidf = TfidfVectorizer(max_features=10000)\n",
    "vectorizer_tfidf.fit(c_data)\n",
    "covid_tfidf_text = vectorizer_tfidf.transform(c_data)\n",
    "print(\"Data shape:\",covid_tfidf_text.shape)"
   ]
  },
  {
   "cell_type": "code",
   "execution_count": 6,
   "metadata": {},
   "outputs": [
    {
     "data": {
      "text/plain": [
       "(10000, 6202)"
      ]
     },
     "execution_count": 6,
     "metadata": {},
     "output_type": "execute_result"
    }
   ],
   "source": [
    "# Implementing TFIDF for dimensionality reduction\n",
    "pca = PCA(n_components=0.99,svd_solver='full',random_state=42)\n",
    "covid_tfidf_pca= pca.fit_transform(covid_tfidf_text.toarray())\n",
    "covid_tfidf_pca.shape"
   ]
  },
  {
   "cell_type": "code",
   "execution_count": 7,
   "metadata": {},
   "outputs": [
    {
     "name": "stderr",
     "output_type": "stream",
     "text": [
      "100%|██████████| 99/99 [12:00:09<00:00, 706.95s/it]  \n"
     ]
    }
   ],
   "source": [
    "# Ref: https://medium.com/analytics-vidhya/how-to-determine-the-optimal-k-for-k-means-708505d204eb\n",
    "\n",
    "# Finding the optimal values of k using Silhouette Score as a metric\n",
    "sil_score = []\n",
    "for k in tqdm(range(2,101)):\n",
    "    kmeans = KMeans(n_clusters = k).fit(covid_tfidf_pca)\n",
    "    labels = kmeans.labels_\n",
    "    sil_score.append(silhouette_score(covid_tfidf_pca, labels, metric = 'euclidean'))    "
   ]
  },
  {
   "cell_type": "code",
   "execution_count": 8,
   "metadata": {},
   "outputs": [
    {
     "data": {
      "image/png": "[encoded data removed]",
      "text/plain": [
       "<Figure size 432x288 with 1 Axes>"
      ]
     },
     "metadata": {
      "needs_background": "light"
     },
     "output_type": "display_data"
    }
   ],
   "source": [
    "# Plotting the results\n",
    "plt.plot(range(2,101),sil_score,label=\"Silhouette Score\")\n",
    "plt.scatter(range(2,101),sil_score,label=\"Silhouette Score\")\n",
    "plt.title(\"K Vs. Silhouette Score\")\n",
    "plt.grid()\n",
    "plt.xlabel(\"K\")\n",
    "plt.ylabel(\"Silhouette Score\")\n",
    "plt.legend()\n",
    "plt.show()"
   ]
  },
  {
   "cell_type": "code",
   "execution_count": 23,
   "metadata": {},
   "outputs": [],
   "source": [
    "c_orig_text = covid19_df_subset['text'].values"
   ]
  },
  {
   "cell_type": "code",
   "execution_count": 10,
   "metadata": {},
   "outputs": [],
   "source": [
    "# Implementing K-means clustering\n",
    "k = 93 # The optimal value of k (look at the plot)\n",
    "kmeans = KMeans(n_clusters=k, random_state=2)\n",
    "y_pred = kmeans.fit_predict(covid_tfidf_pca)"
   ]
  },
  {
   "cell_type": "code",
   "execution_count": 16,
   "metadata": {},
   "outputs": [
    {
     "name": "stdout",
     "output_type": "stream",
     "text": [
      "<class 'pandas.core.frame.DataFrame'>\n",
      "RangeIndex: 10000 entries, 0 to 9999\n",
      "Data columns (total 3 columns):\n",
      "Title            10000 non-null object\n",
      "Original text    10000 non-null object\n",
      "Cluster          10000 non-null int64\n",
      "dtypes: int64(1), object(2)\n",
      "memory usage: 234.5+ KB\n"
     ]
    }
   ],
   "source": [
    "# Creating dataframe containg: Title of research paper,text in research paper, Cluster Number that the paper was assigned to\n",
    "ypred = list(y_pred)\n",
    "cluster_df = pd.DataFrame(list(zip(c_title,c_orig_text,ypred)),columns=['Title','Original text','Cluster'])\n",
    "cluster_df.info()"
   ]
  },
  {
   "cell_type": "code",
   "execution_count": 17,
   "metadata": {},
   "outputs": [],
   "source": [
    "# Organise the dataframe based on cluster\n",
    "sort_df_by_cluster = cluster_df.sort_values('Cluster')"
   ]
  },
  {
   "cell_type": "code",
   "execution_count": 18,
   "metadata": {},
   "outputs": [],
   "source": [
    "import re\n",
    "\n",
    "def decontracted(phrase):\n",
    "    # specific\n",
    "    phrase = re.sub(r\"won't\", \"will not\", phrase)\n",
    "    phrase = re.sub(r\"can\\'t\", \"can not\", phrase)\n",
    "\n",
    "    # general\n",
    "    phrase = re.sub(r\"n\\'t\", \" not\", phrase)\n",
    "    phrase = re.sub(r\"\\'re\", \" are\", phrase)\n",
    "    phrase = re.sub(r\"\\'s\", \" is\", phrase)\n",
    "    phrase = re.sub(r\"\\'d\", \" would\", phrase)\n",
    "    phrase = re.sub(r\"\\'ll\", \" will\", phrase)\n",
    "    phrase = re.sub(r\"\\'t\", \" not\", phrase)\n",
    "    phrase = re.sub(r\"\\'ve\", \" have\", phrase)\n",
    "    phrase = re.sub(r\"\\'m\", \" am\", phrase)\n",
    "    return phrase"
   ]
  },
  {
   "cell_type": "code",
   "execution_count": 33,
   "metadata": {},
   "outputs": [],
   "source": [
    "# The function performs preprocessing on the text\n",
    "def preprocess_text(text_data):\n",
    "    pre_processed_text = []\n",
    "    # tqdm is for printing the status bar\n",
    "    for sentance in tqdm(text_data):\n",
    "        sent = decontracted(sentance)\n",
    "        sent = sent.replace('\\\\r', ' ')\n",
    "        sent = sent.replace('\\\\n', ' ')\n",
    "        sent = sent.replace('\\\\\"', ' ')\n",
    "        sent = re.sub(\"[\\(\\[].*?[\\)\\]]\", \"\", sent)\n",
    "        # https://gist.github.com/sebleier/554280\n",
    "        sent = ' '.join(e for e in sent.split())\n",
    "        pre_processed_text.append(sent.strip())\n",
    "    return pre_processed_text"
   ]
  },
  {
   "cell_type": "code",
   "execution_count": 34,
   "metadata": {},
   "outputs": [
    {
     "name": "stderr",
     "output_type": "stream",
     "text": [
      "100%|██████████| 10000/10000 [00:19<00:00, 509.31it/s]\n"
     ]
    }
   ],
   "source": [
    "# Performing preprocessing on the text column in the dataframe and creating a new column containg preprocessed text\n",
    "preprocessed_cluster_text = preprocess_text(sort_df_by_cluster['Original text'].values)\n",
    "sort_df_by_cluster['Clustered_preprocessed_text'] = preprocessed_cluster_text"
   ]
  },
  {
   "cell_type": "code",
   "execution_count": 35,
   "metadata": {},
   "outputs": [],
   "source": [
    "# Save the cluster dataframe to prevent repeated processing\n",
    "sort_df_by_cluster.to_csv('cluster_ie_df.csv')"
   ]
  },
  {
   "cell_type": "code",
   "execution_count": 24,
   "metadata": {},
   "outputs": [
    {
     "name": "stdout",
     "output_type": "stream",
     "text": [
      "<class 'pandas.core.frame.DataFrame'>\n",
      "RangeIndex: 10000 entries, 0 to 9999\n",
      "Data columns (total 5 columns):\n",
      "Unnamed: 0                     10000 non-null int64\n",
      "Title                          10000 non-null object\n",
      "Original text                  10000 non-null object\n",
      "Cluster                        10000 non-null int64\n",
      "Clustered_preprocessed_text    10000 non-null object\n",
      "dtypes: int64(2), object(3)\n",
      "memory usage: 390.7+ KB\n"
     ]
    }
   ],
   "source": [
    "# Retrieve from cluster csv file\n",
    "sort_df_by_cluster = pd.read_csv('cluster_ie_df.csv')\n",
    "sort_df_by_cluster.info()"
   ]
  },
  {
   "cell_type": "code",
   "execution_count": 25,
   "metadata": {},
   "outputs": [
    {
     "name": "stdout",
     "output_type": "stream",
     "text": [
      "18    512\n",
      "90    501\n",
      "22    303\n",
      "63    296\n",
      "42    252\n",
      "30    232\n",
      "39    227\n",
      "91    225\n",
      "52    225\n",
      "25    210\n",
      "10    208\n",
      "3     201\n",
      "38    201\n",
      "46    194\n",
      "19    190\n",
      "53    190\n",
      "57    186\n",
      "51    186\n",
      "15    173\n",
      "68    173\n",
      "58    166\n",
      "65    157\n",
      "67    156\n",
      "87    154\n",
      "6     136\n",
      "86    133\n",
      "44    132\n",
      "34    128\n",
      "69    127\n",
      "9     125\n",
      "     ... \n",
      "64     50\n",
      "79     46\n",
      "11     44\n",
      "26     44\n",
      "12     43\n",
      "0      41\n",
      "21     41\n",
      "59     41\n",
      "82     39\n",
      "8      38\n",
      "45     37\n",
      "83     37\n",
      "73     35\n",
      "50     31\n",
      "61     31\n",
      "24     31\n",
      "37     30\n",
      "56     29\n",
      "20     29\n",
      "72     28\n",
      "28     28\n",
      "76     27\n",
      "32     26\n",
      "49     24\n",
      "54     24\n",
      "33     18\n",
      "71     18\n",
      "77     15\n",
      "85     14\n",
      "66     13\n",
      "Name: Cluster, Length: 93, dtype: int64\n"
     ]
    }
   ],
   "source": [
    "print(sort_df_by_cluster['Cluster'].value_counts())"
   ]
  },
  {
   "cell_type": "code",
   "execution_count": 28,
   "metadata": {},
   "outputs": [
    {
     "name": "stderr",
     "output_type": "stream",
     "text": [
      "\r",
      "  0%|          | 0/1 [00:00<?, ?it/s]"
     ]
    },
    {
     "data": {
      "image/png": "[encoded data removed]",
      "text/plain": [
       "<Figure size 432x288 with 1 Axes>"
      ]
     },
     "metadata": {
      "needs_background": "light"
     },
     "output_type": "display_data"
    },
    {
     "name": "stderr",
     "output_type": "stream",
     "text": [
      "100%|██████████| 1/1 [38:01<00:00, 2281.63s/it]\n"
     ]
    }
   ],
   "source": [
    "# Ref: https://www.analyticsvidhya.com/blog/2018/11/introduction-text-summarization-textrank-python/\n",
    "\n",
    "## This code segment implements information extraction and wordcloud for each cluster \n",
    "for j in tqdm(range(9,10)):\n",
    "    sentences = []\n",
    "    title = []\n",
    "    sentence_in_vector = []\n",
    "    ranked_sentences = []\n",
    "    \n",
    "# Performing sentence tokenizer to break the text into sentences\n",
    "    for s in zip(sort_df_by_cluster[sort_df_by_cluster['Cluster']==j]['Clustered_preprocessed_text'].values,sort_df_by_cluster[sort_df_by_cluster['Cluster']==j]['Title'].values):\n",
    "        t = sent_tokenize(s[0])\n",
    "        sentences.append(t)\n",
    "        for i in range(len(t)):\n",
    "            title.append(s[1])\n",
    "    sentences = [y for x in sentences for y in x] # flatten list\n",
    "    \n",
    "# Creating a dataframe that contains sentence('Sentence') and research paper that the sentence belongs to('Title').    \n",
    "    sent_df = pd.DataFrame({'Title': title,'Sentence': sentences})\n",
    "    lst = sent_df['Sentence'].tolist()\n",
    "    #sent_df['Useful'] = sent_df['Sentence'].apply(find_useful)--------> this is original\n",
    "\n",
    "# Using Spark to speed up the calculations   \n",
    "    sc = SparkSession.builder.master(\"local[*]\").appName(\"spark session example\").config(\"spark.driver.memory\", \"2g\").config(\"spark.executor.memory\", \"2g\").getOrCreate()\n",
    "    rdd  = sc.sparkContext.parallelize(lst)\n",
    "    result = rdd.map(lambda each:find_useful(each)) \n",
    "    flag_list = result.collect()  # Collect result from rdd(i.e. flag values which implies whether sentence contains any pattern or not)\n",
    "    \n",
    "# Adding flag list to the dataframe to identify the sentence that contains matched patterns(look at function find_useful())    \n",
    "    sent_df[\"Useful\"] = flag_list\n",
    "    sent_useful = sent_df[sent_df['Useful'] == 1] # Retrieving rows from the datframe that contain sentences with useful information\n",
    "    \n",
    "    filename = \"/home/jayesh/Documents/results/Cluster_{}_IE.csv\".format(j) # Path to save dataframe\n",
    "    wcfn = \"/home/jayesh/Documents/results/Cluster_{}_WC.png\".format(j)     # Path to save wordcloud\n",
    "    sent_useful.to_csv(filename)\n",
    "    del [[sent_df,sent_useful]]\n",
    "    gc.collect()\n",
    "    sent_df = pd.DataFrame()\n",
    "    sent_useful = pd.DataFrame()\n",
    "    \n",
    "# Implementing WordCloud    \n",
    "    text = \" \".join(each for each in sort_df_by_cluster[sort_df_by_cluster[\"Cluster\"]==j][\"Clustered_preprocessed_text\"].values)    \n",
    "    wordcloud = WordCloud(stopwords=stopwords, background_color=\"white\").generate(text)\n",
    "    plt.imshow(wordcloud, interpolation='bilinear')\n",
    "    plt.axis(\"off\")\n",
    "    plt.show()\n",
    "    wordcloud.to_file(wcfn)\n",
    "    \n",
    "# The output shows result of one cluster    "
   ]
  },
  {
   "cell_type": "code",
   "execution_count": 26,
   "metadata": {},
   "outputs": [],
   "source": [
    "# Ref: https://www.analyticsvidhya.com/blog/2020/06/nlp-project-information-extraction/\n",
    "\n",
    "# The function matches the patterns in the text and return a flag value of 1 if match is found else 0\n",
    "def find_useful(text):\n",
    "            \n",
    "    nlp = spacy.load('en_core_web_sm',disable=['ner','textcat'])\n",
    "    \n",
    "    # spacy doc\n",
    "    doc = nlp(text)\n",
    "    \n",
    "    # patterns\n",
    "    p1 = [{'LOWER':'transmission'},{'LOWER':'period'}]\n",
    "    p2 = [{'LOWER':'incubation'},{'LOWER':'period'}]\n",
    "    p3 = [{'LOWER':'season'},{'LOWER':'of','OP':'?'},{'POS':'PROPN','OP':'?'}]\n",
    "    p4 = [{'LOWER':'coronavirus'}]\n",
    "    p5 = [{'LOWER':'environmental'},{'LOWER':'survival'}]\n",
    "    p6 = [{'LOWER':'persistence'}]\n",
    "    p7 = [{'LOWER':'phenotypic'},{'LOWER':'change','OP':'?'}]\n",
    "    p8 = [{'LOWER':'immune'},{'LOWER':'response','OP':'?'}]\n",
    "    p9 = [{'LOWER':'prevent'},{'LOWER':'transmission'}]\n",
    "    p10 = [{'LOWER':'role'},{'LOWER':'of','OP':'?'},{'POS':'PROPN'}]\n",
    "    p11 = [{'LOWER':'prevalence'},{'LOWER':'of'},{'POS':'PROPN'}]\n",
    "    p12 = [{'LOWER':'persistence'},{'LOWER':'of'},{'POS':'PROPN'}]\n",
    "    p13 = [{'LOWER':'sars-cov-2'}]\n",
    "    p14 = [{'LOWER':'animal'},{'LOWER':'host'}]\n",
    "    p15 = [{'LOWER':'effectiveness'},{'LOWER':'of'},{'POS':'PROPN'}]\n",
    "    p16 = [{'LOWER':'coronavirus'},{'LOWER':'in'},{'POS':'human'}]\n",
    "    p17 = [{'LOWER':'sars'}]\n",
    "    p18 = [{'LOWER':'cov'}]\n",
    "    p19 = [{'LOWER':'clinical'},{'LOWER':'trials'}]\n",
    "    p20 = [{'LOWER':'medications'}]\n",
    "    p21 = [{'LOWER':'human'},{'LOWER':'host'}]\n",
    "    p22 = [{'LOWER':'human'}]\n",
    "    \n",
    "    # Matcher class object \n",
    "    matcher = Matcher(nlp.vocab) \n",
    "    matcher.add(\"names\", None, p1,p2,p3,p4,p5,p6,p7,p8,p9,p10,p11,p12,p13,p14,p15,p16,p17,p18,p19,p20,p21,p22) \n",
    "\n",
    "    matches = matcher(doc)\n",
    "    \n",
    "    # If atleast one pattern matches return 1 else 0\n",
    "    if len(matches) > 0:\n",
    "        flag = 1\n",
    "    else:\n",
    "        flag = 0\n",
    "        \n",
    "    return flag      \n"
   ]
  }
 ],
 "metadata": {
  "kernelspec": {
   "display_name": "Python 3",
   "language": "python",
   "name": "python3"
  },
  "language_info": {
   "codemirror_mode": {
    "name": "ipython",
    "version": 3
   },
   "file_extension": ".py",
   "mimetype": "text/x-python",
   "name": "python",
   "nbconvert_exporter": "python",
   "pygments_lexer": "ipython3",
   "version": "3.7.3"
  }
 },
 "nbformat": 4,
 "nbformat_minor": 2
}
